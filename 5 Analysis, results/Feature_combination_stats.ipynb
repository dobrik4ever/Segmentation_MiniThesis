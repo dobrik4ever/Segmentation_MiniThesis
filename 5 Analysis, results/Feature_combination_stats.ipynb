{
 "cells": [
  {
   "cell_type": "code",
   "execution_count": 55,
   "metadata": {},
   "outputs": [],
   "source": [
    "import numpy as np\n",
    "import matplotlib.pyplot as plt\n",
    "from skimage import io, filters, morphology\n",
    "import os\n",
    "import pandas as pd"
   ]
  },
  {
   "cell_type": "code",
   "execution_count": 21,
   "metadata": {},
   "outputs": [],
   "source": [
    "def load_mask(path):\n",
    "    '''Load and process the mask'''\n",
    "    GT = io.imread(path) + 1\n",
    "    GT[GT != 1] = 0\n",
    "    GT = GT.astype(np.bool)\n",
    "    return GT\n",
    "\n",
    "def compute_iou(mask, GT):\n",
    "    '''Computes IoU'''\n",
    "    intersection = np.logical_and(mask, GT)\n",
    "    union = np.logical_or(mask, GT)\n",
    "    return np.sum(intersection) / np.sum(union)\n",
    "\n",
    "def split_array(array, size=[3,3]):\n",
    "    d, h, w = array.shape\n",
    "    arrays = []\n",
    "    for y in range(size[0]):\n",
    "        for x in range(size[1]):\n",
    "            arrays.append(array[:,\n",
    "                                y*h//size[0]:(y+1)*h//size[0],\n",
    "                                x*w//size[1]:(x+1)*w//size[1]])\n",
    "\n",
    "    return arrays\n",
    "\n"
   ]
  },
  {
   "cell_type": "code",
   "execution_count": 27,
   "metadata": {},
   "outputs": [
    {
     "name": "stdout",
     "output_type": "stream",
     "text": [
      "(67, 101, 88)\n"
     ]
    }
   ],
   "source": [
    "GT = load_mask('features/GroundTruth.tif')\n",
    "print(GT.shape)\n",
    "GT_segments = split_array(GT)"
   ]
  },
  {
   "cell_type": "code",
   "execution_count": 109,
   "metadata": {},
   "outputs": [
    {
     "data": {
      "text/html": [
       "<div>\n",
       "<style scoped>\n",
       "    .dataframe tbody tr th:only-of-type {\n",
       "        vertical-align: middle;\n",
       "    }\n",
       "\n",
       "    .dataframe tbody tr th {\n",
       "        vertical-align: top;\n",
       "    }\n",
       "\n",
       "    .dataframe thead th {\n",
       "        text-align: right;\n",
       "    }\n",
       "</style>\n",
       "<table border=\"1\" class=\"dataframe\">\n",
       "  <thead>\n",
       "    <tr style=\"text-align: right;\">\n",
       "      <th></th>\n",
       "      <th>Feature</th>\n",
       "      <th>iou</th>\n",
       "      <th>error</th>\n",
       "    </tr>\n",
       "  </thead>\n",
       "  <tbody>\n",
       "    <tr>\n",
       "      <th>8</th>\n",
       "      <td>Derivatives</td>\n",
       "      <td>0.395176</td>\n",
       "      <td>0.006251</td>\n",
       "    </tr>\n",
       "    <tr>\n",
       "      <th>1</th>\n",
       "      <td>Gaussian blur</td>\n",
       "      <td>0.476785</td>\n",
       "      <td>0.060966</td>\n",
       "    </tr>\n",
       "    <tr>\n",
       "      <th>4</th>\n",
       "      <td>Edges</td>\n",
       "      <td>0.520982</td>\n",
       "      <td>0.007007</td>\n",
       "    </tr>\n",
       "    <tr>\n",
       "      <th>2</th>\n",
       "      <td>Hessian</td>\n",
       "      <td>0.546988</td>\n",
       "      <td>0.018027</td>\n",
       "    </tr>\n",
       "    <tr>\n",
       "      <th>6</th>\n",
       "      <td>DoG</td>\n",
       "      <td>0.585677</td>\n",
       "      <td>0.008577</td>\n",
       "    </tr>\n",
       "    <tr>\n",
       "      <th>3</th>\n",
       "      <td>MaxMinMed</td>\n",
       "      <td>0.625457</td>\n",
       "      <td>0.009930</td>\n",
       "    </tr>\n",
       "    <tr>\n",
       "      <th>9</th>\n",
       "      <td>MeanVariance</td>\n",
       "      <td>0.632903</td>\n",
       "      <td>0.008402</td>\n",
       "    </tr>\n",
       "    <tr>\n",
       "      <th>10</th>\n",
       "      <td>Laplacian</td>\n",
       "      <td>0.637495</td>\n",
       "      <td>0.007423</td>\n",
       "    </tr>\n",
       "    <tr>\n",
       "      <th>5</th>\n",
       "      <td>2last</td>\n",
       "      <td>0.671296</td>\n",
       "      <td>0.011560</td>\n",
       "    </tr>\n",
       "    <tr>\n",
       "      <th>11</th>\n",
       "      <td>3second</td>\n",
       "      <td>0.736955</td>\n",
       "      <td>0.010139</td>\n",
       "    </tr>\n",
       "    <tr>\n",
       "      <th>7</th>\n",
       "      <td>3first</td>\n",
       "      <td>0.773532</td>\n",
       "      <td>0.011813</td>\n",
       "    </tr>\n",
       "    <tr>\n",
       "      <th>12</th>\n",
       "      <td>GroundTruth</td>\n",
       "      <td>1.000000</td>\n",
       "      <td>0.000000</td>\n",
       "    </tr>\n",
       "  </tbody>\n",
       "</table>\n",
       "</div>"
      ],
      "text/plain": [
       "          Feature       iou     error\n",
       "8     Derivatives  0.395176  0.006251\n",
       "1   Gaussian blur  0.476785  0.060966\n",
       "4           Edges  0.520982  0.007007\n",
       "2         Hessian  0.546988  0.018027\n",
       "6             DoG  0.585677  0.008577\n",
       "3       MaxMinMed  0.625457  0.009930\n",
       "9    MeanVariance  0.632903  0.008402\n",
       "10      Laplacian  0.637495  0.007423\n",
       "5           2last  0.671296  0.011560\n",
       "11        3second  0.736955  0.010139\n",
       "7          3first  0.773532  0.011813\n",
       "12    GroundTruth  1.000000  0.000000"
      ]
     },
     "execution_count": 109,
     "metadata": {},
     "output_type": "execute_result"
    }
   ],
   "source": [
    "df = pd.DataFrame(columns = ['Feature', 'iou', 'error'])\n",
    "df2 = pd.DataFrame()\n",
    "i = 0\n",
    "for file in os.listdir('features'):\n",
    "    if file.endswith('.tif'):# and '2' not in file and '3' not in file:\n",
    "        # if '3' not in file and '2' not in file and 'Trainable' not in file:\n",
    "        if 'Trainable' not in file:\n",
    "            i += 1\n",
    "            mask = load_mask('features/' + file)\n",
    "            segments = split_array(mask)\n",
    "            ious = np.zeros(9)\n",
    "            for j, (segment, GT_segment) in enumerate(zip(segments, GT_segments)):\n",
    "                ious[j] = compute_iou(segment, GT_segment)\n",
    "\n",
    "            iou = np.average(ious)\n",
    "            iou_var = np.var(ious)\n",
    "            name = file.split('.')[0]\n",
    "            df.loc[i, 'Feature'] = name\n",
    "            df.loc[i, 'iou'] = iou\n",
    "            df.loc[i, 'error'] = iou_var\n",
    "            for j, IOU in enumerate(ious):\n",
    "                df2.loc[j, name] = IOU\n",
    "\n",
    "df = df.sort_values('iou', ascending=True)\n",
    "df"
   ]
  },
  {
   "cell_type": "code",
   "execution_count": 129,
   "metadata": {},
   "outputs": [
    {
     "data": {
      "text/plain": [
       "<Figure size 720x720 with 0 Axes>"
      ]
     },
     "metadata": {},
     "output_type": "display_data"
    },
    {
     "data": {
      "image/png": "[encoded data removed]",
      "text/plain": [
       "<Figure size 720x432 with 1 Axes>"
      ]
     },
     "metadata": {
      "needs_background": "light"
     },
     "output_type": "display_data"
    }
   ],
   "source": [
    "plt.figure(figsize=(10,10))\n",
    "df2_plot = df2[df.Feature]\n",
    "df2_plot.rename(columns= {  '3first':'MeanVar, MinMaxMed\\nLaplacian',\n",
    "                            '3second':'DoG, Hessian\\nEdges',\n",
    "                            '2last':'Gaussian Blur\\nderivatives'}, inplace=True)\n",
    "boxplot = df2_plot.plot.box(vert=False, figsize=(10,6))\n",
    "plt.xlim([0,1.1])\n",
    "plt.xlabel('IoU')\n",
    "plt.xticks([0,0.25,0.5,0.75,1])\n",
    "plt.grid(axis='x')\n",
    "plt.tight_layout()\n",
    "plt.title('Feature importance comparison')\n",
    "plt.savefig('Feature_Comparison_stat.pdf')\n",
    "\n",
    "\n"
   ]
  },
  {
   "cell_type": "code",
   "execution_count": 105,
   "metadata": {},
   "outputs": [
    {
     "data": {
      "image/png": "[encoded data removed]",
      "text/plain": [
       "<Figure size 432x288 with 1 Axes>"
      ]
     },
     "metadata": {
      "needs_background": "light"
     },
     "output_type": "display_data"
    }
   ],
   "source": [
    "for i, col in enumerate(df2_plot.columns):\n",
    "    plt.scatter(df2_plot[col], np.ones(len(df2_plot[col]))*i)"
   ]
  }
 ],
 "metadata": {
  "interpreter": {
   "hash": "daec29ac986b9fc2404708d6a035c3e1f34ece608a3358e4ebc23c7bf2d63e76"
  },
  "kernelspec": {
   "display_name": "Python 3.7.10 64-bit ('sci': conda)",
   "language": "python",
   "name": "python3"
  },
  "language_info": {
   "codemirror_mode": {
    "name": "ipython",
    "version": 3
   },
   "file_extension": ".py",
   "mimetype": "text/x-python",
   "name": "python",
   "nbconvert_exporter": "python",
   "pygments_lexer": "ipython3",
   "version": "3.7.10"
  },
  "orig_nbformat": 4
 },
 "nbformat": 4,
 "nbformat_minor": 2
}
